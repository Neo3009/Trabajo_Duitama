{
  "nbformat": 4,
  "nbformat_minor": 0,
  "metadata": {
    "colab": {
      "provenance": []
    },
    "kernelspec": {
      "name": "python3",
      "display_name": "Python 3"
    },
    "language_info": {
      "name": "python"
    }
  },
  "cells": [
    {
      "cell_type": "code",
      "execution_count": null,
      "metadata": {
        "id": "yUxU-1XCf3Ob"
      },
      "outputs": [],
      "source": [
        "import pdfplumber\n",
        "import csv\n",
        "\n",
        "# 1. Extracción de texto del PDF\n",
        "def extract_text_from_pdf(pdf_path):\n",
        "    with pdfplumber.open(pdf_path) as pdf:\n",
        "        text = \"\"\n",
        "        for page in pdf.pages:\n",
        "            text += page.extract_text()\n",
        "    return text\n",
        "\n",
        "# 2. Procesamiento de texto (en este ejemplo, solo se divide el texto en líneas)\n",
        "def process_text(text):\n",
        "    lines = text.split(\"\\n\")\n",
        "    return lines\n",
        "\n",
        "# 3. Escritura en un archivo CSV\n",
        "def write_to_csv(data, csv_path):\n",
        "    with open(csv_path, \"w\", newline=\"\", encoding=\"utf-8\") as csvfile:\n",
        "        writer = csv.writer(csvfile)\n",
        "        writer.writerows(data)\n",
        "\n",
        "# Ejemplo de uso\n",
        "pdf_path = \"archivo.pdf\"\n",
        "csv_path = \"archivo.csv\"\n",
        "\n",
        "text = extract_text_from_pdf(pdf_path)\n",
        "processed_data = process_text(text)\n",
        "write_to_csv(processed_data, csv_path)\n"
      ]
    }
  ]
}